{
 "cells": [
  {
   "cell_type": "code",
   "execution_count": 1,
   "id": "3c3ffe98",
   "metadata": {},
   "outputs": [],
   "source": [
    "# import libraries\n",
    "import pandas as pd\n",
    "import openpyxl \n",
    "import hashlib"
   ]
  },
  {
   "cell_type": "code",
   "execution_count": 2,
   "id": "f9f5aa10",
   "metadata": {},
   "outputs": [],
   "source": [
    "# check if the origin is in the list of 100 most common airports\n",
    "# returns boolean\n",
    "def check(excel_file, sheet_name, orig, dest):\n",
    "    if find_distance(excel_file, sheet_name, orig, dest) == None:\n",
    "        return False\n",
    "    else:\n",
    "        return True"
   ]
  },
  {
   "cell_type": "code",
   "execution_count": 41,
   "id": "df560d11",
   "metadata": {},
   "outputs": [],
   "source": [
    "def find_distance(excel_file, sheet_name, orig, dest):\n",
    "    df = pd.read_excel(excel_file, sheet_name=sheet_name)\n",
    "    row = df.loc[df['ORIGIN'] == orig]\n",
    "    col = row.loc[row['DEST'] == dest]\n",
    "    distance = col['DISTANCE_IN_MILES']\n",
    "    return distance"
   ]
  },
  {
   "cell_type": "code",
   "execution_count": 42,
   "id": "3b8206b4",
   "metadata": {},
   "outputs": [],
   "source": [
    "# example input\n",
    "master_file = \"//Users/ellasobhani/GPT/Distance_of_All_Airports_20230606_133617.xlsx\"\n",
    "big_file = \n",
    "small_file =\n",
    "sheet_name = \"Sheet1\"\n",
    "orig = \"06A\"\n",
    "dest = \"A43\""
   ]
  },
  {
   "cell_type": "code",
   "execution_count": 43,
   "id": "1d99c6c6",
   "metadata": {},
   "outputs": [
    {
     "name": "stdout",
     "output_type": "stream",
     "text": [
      "3fbbd5223fb5615353a903e2ebe01f80\n"
     ]
    }
   ],
   "source": [
    "# check if the origin-destination pair is in the small list of pairs\n",
    "# if it is, proceed to check the bigger file with 5k origin-destination pairs\n",
    "# else, check the master list\n",
    "if check_origin(small_file, sheet_name, orig, dest):\n",
    "    distance = find_distance(big_file, sheet_name, orig, dest)\n",
    "else: \n",
    "    distance = find_distance(master_file, sheet_name, orig, dest)\n",
    "print(distance)"
   ]
  }
 ],
 "metadata": {
  "kernelspec": {
   "display_name": "Python 3 (ipykernel)",
   "language": "python",
   "name": "python3"
  },
  "language_info": {
   "codemirror_mode": {
    "name": "ipython",
    "version": 3
   },
   "file_extension": ".py",
   "mimetype": "text/x-python",
   "name": "python",
   "nbconvert_exporter": "python",
   "pygments_lexer": "ipython3",
   "version": "3.9.7"
  }
 },
 "nbformat": 4,
 "nbformat_minor": 5
}
