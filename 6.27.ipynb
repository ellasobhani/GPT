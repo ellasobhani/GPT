{
 "cells": [
  {
   "cell_type": "code",
   "execution_count": 1,
   "id": "74b74a47",
   "metadata": {},
   "outputs": [],
   "source": [
    "# import libraries\n",
    "import pandas as pd\n",
    "import openpyxl \n",
    "from collections import Counter\n",
    "import time"
   ]
  },
  {
   "cell_type": "code",
   "execution_count": 2,
   "id": "6a94cbdf",
   "metadata": {},
   "outputs": [],
   "source": [
    "# function to determine whether a number is prime or not\n",
    "def is_prime(num):\n",
    "    if num < 2:\n",
    "        return False\n",
    "    for i in range(2, int(num**0.5) + 1):\n",
    "        if num % i == 0:\n",
    "            return False\n",
    "    return True"
   ]
  },
  {
   "cell_type": "code",
   "execution_count": 3,
   "id": "105ced73",
   "metadata": {},
   "outputs": [],
   "source": [
    "# function to generate an array of size n of unique prime numbers\n",
    "def generate_prime_numbers(n):\n",
    "    primes = []\n",
    "    num = 2\n",
    "    while len(primes) < n:\n",
    "        if is_prime(num):\n",
    "            primes.append(num)\n",
    "        num += 1\n",
    "    return primes"
   ]
  },
  {
   "cell_type": "code",
   "execution_count": 4,
   "id": "4dd80ab1",
   "metadata": {},
   "outputs": [],
   "source": [
    "# build array of unique airports\n",
    "def airports_list(excel_file, sheet_name):\n",
    "    df = pd.read_excel(excel_file, sheet_name=sheet_name)\n",
    "    airports = []\n",
    "\n",
    "    for airport in df:\n",
    "        if airport not in airports:\n",
    "            airports.append(airport)\n",
    "            \n",
    "    return airports"
   ]
  },
  {
   "cell_type": "code",
   "execution_count": 5,
   "id": "1a219202",
   "metadata": {},
   "outputs": [],
   "source": [
    "# build airport frequency dictionary\n",
    "def airport_freq_dict(excel_file, sheet_name, airports):\n",
    "    df = pd.read_excel(excel_file, sheet_name=sheet_name)\n",
    "    airports_counts = Counter(df[\"ORIGIN\"])\n",
    "\n",
    "    return airports_counts"
   ]
  },
  {
   "cell_type": "code",
   "execution_count": 6,
   "id": "c57f324a",
   "metadata": {},
   "outputs": [],
   "source": [
    "# sort dictionary in descending order by frequency of the airport codes\n",
    "def sort_dictionary(dictionary):\n",
    "    sorted_dict = dict(sorted(dictionary.items(), key=lambda x: x[1], reverse=True))\n",
    "    \n",
    "    return sorted_dict"
   ]
  },
  {
   "cell_type": "code",
   "execution_count": 7,
   "id": "50deaddc",
   "metadata": {},
   "outputs": [],
   "source": [
    "# function to build the lookup table of airports\n",
    "# stores airport code with a prime number in a dictionary\n",
    "def build_lookup_table(excel_sheet, sheet_name, n, airport_frequency_dict):\n",
    "    #freq_dict = sort_dictionary(airport_frequency_dict)\n",
    "    sorted_airport_list = list(airport_frequency_dict.keys())\n",
    "    \n",
    "    lookup_table = {}\n",
    "    prime_num = 2\n",
    "\n",
    "    for airport in sorted_airport_list:\n",
    "        while not is_prime(prime_num):\n",
    "            prime_num += 1\n",
    "        lookup_table[airport] = prime_num\n",
    "        prime_num += 1\n",
    "        \n",
    "    return lookup_table"
   ]
  },
  {
   "cell_type": "code",
   "execution_count": 8,
   "id": "c2f0f302",
   "metadata": {},
   "outputs": [],
   "source": [
    "# function to search the excel file and find the distance between origin-destination pairs\n",
    "def distance_between(excel_file, sheet_name, orig, dest):\n",
    "    df = pd.read_excel(excel_file, sheet_name=sheet_name)\n",
    "    row = df.loc[df['ORIGIN'] == orig]\n",
    "    col = row.loc[row['DEST'] == dest]\n",
    "    distance = col['DISTANCE_IN_MILES']\n",
    "    return distance"
   ]
  },
  {
   "cell_type": "code",
   "execution_count": 9,
   "id": "fda5a5b1",
   "metadata": {},
   "outputs": [],
   "source": [
    "# this is taking a long time because of nested for-loop\n",
    "\n",
    "# ordered dict hashtable implementation\n",
    "# (prime: distance) as (key:value)\n",
    "#def build_dict_hashtable(excel_file, sheet_name, lookup_table):\n",
    "#    route_hashtable = {}\n",
    "    # for every airport in the lookup table with each other airport\n",
    "#    for item_1 in lookup_table:\n",
    "#        for item_2 in lookup_table:\n",
    "            # get prime number for each and compute unique key to store the distance\n",
    "#            key = lookup_table[item_1]*lookup_table[item_2]\n",
    "#            route_hashtable[key] = distance_between(excel_file, sheet_name, item_1, item_2)"
   ]
  },
  {
   "cell_type": "code",
   "execution_count": 10,
   "id": "242d41a5",
   "metadata": {},
   "outputs": [],
   "source": [
    "def build_dict_hashtable(excel_file, sheet_name, lookup_table, orig, dest):\n",
    "    route_hashtable = {}\n",
    "    # for every airport in the lookup table with each other airport\n",
    "    for i in enumerate(lookup_table):\n",
    "        for j in enumerate(lookup_table):\n",
    "            # get prime number for each and compute unique key to store the distance\n",
    "            key = lookup_table[orig]*lookup_table[dest]\n",
    "            route_hashtable[key] = distance_between(excel_file, sheet_name, orig, dest)"
   ]
  },
  {
   "cell_type": "code",
   "execution_count": null,
   "id": "816d0e3d",
   "metadata": {},
   "outputs": [],
   "source": [
    "# mock main method\n",
    "# sample input\n",
    "excel_file = \"//Users/ellasobhani/GPT/Distance_of_All_Airports_20230606_133617.xlsx\"\n",
    "sheet_name = \"Sheet1\"\n",
    "orig = \"06A\"\n",
    "dest = \"A43\"\n",
    "\n",
    "# list of unique airports\n",
    "airports = airports_list(excel_file, sheet_name)\n",
    "n = len(airports)\n",
    "\n",
    "# create a frequency dictionary of the airports and sort it by frequency in descending order\n",
    "airport_freq = airport_freq_dict(excel_file, sheet_name, airports)\n",
    "#print(airport_freq)\n",
    "#sorted_freq_table = sort_dictionary(airport_freq)\n",
    "#sorted_airports = list(sorted_freq_table.keys())\n",
    "\n",
    "# assign each airport in the freq dictionary with a prime number\n",
    "lookup_table = build_lookup_table(excel_file, sheet_name, n, airport_freq)\n",
    "#print(lookup_table)\n",
    "\n",
    "# build array hashtable\n",
    "\n",
    "#build dict hashtable\n",
    "dict_hashtable = build_dict_hashtable(excel_file, sheet_name, lookup_table, orig, dest)\n",
    "#print(dict_hashtable)"
   ]
  },
  {
   "cell_type": "code",
   "execution_count": null,
   "id": "1abf979e",
   "metadata": {},
   "outputs": [],
   "source": [
    "# query function\n",
    "def query(hashtable, orig, dest):\n",
    "    key = lookup_table[dest]*lookup_table[dest]\n",
    "    return hashtable[key]\n",
    "\n",
    "test_query = query(dict_hashtable, orig, dest)\n",
    "print(test_query)"
   ]
  },
  {
   "cell_type": "code",
   "execution_count": null,
   "id": "af4afe9b",
   "metadata": {},
   "outputs": [],
   "source": []
  }
 ],
 "metadata": {
  "kernelspec": {
   "display_name": "Python 3 (ipykernel)",
   "language": "python",
   "name": "python3"
  },
  "language_info": {
   "codemirror_mode": {
    "name": "ipython",
    "version": 3
   },
   "file_extension": ".py",
   "mimetype": "text/x-python",
   "name": "python",
   "nbconvert_exporter": "python",
   "pygments_lexer": "ipython3",
   "version": "3.9.7"
  }
 },
 "nbformat": 4,
 "nbformat_minor": 5
}
