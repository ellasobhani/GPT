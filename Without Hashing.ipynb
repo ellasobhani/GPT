{
 "cells": [
  {
   "cell_type": "code",
   "execution_count": 17,
   "id": "8567bac9",
   "metadata": {},
   "outputs": [],
   "source": [
    "# import libraries\n",
    "import pandas as pd\n",
    "import openpyxl "
   ]
  },
  {
   "cell_type": "code",
   "execution_count": null,
   "id": "30d5fc50",
   "metadata": {},
   "outputs": [],
   "source": [
    "# function to search the excel file and find the distance between origin-destination pairs\n",
    "def distance_between(excel_file, sheet_name, orig, dest):\n",
    "    df = pd.read_excel(excel_file, sheet_name=sheet_name)\n",
    "    row = df.loc[df['ORIGIN'] == orig]\n",
    "    col = row.loc[row['DEST'] == dest]\n",
    "    distance = col['DISTANCE_IN_MILES']\n",
    "    return distance"
   ]
  },
  {
   "cell_type": "code",
   "execution_count": null,
   "id": "99e48f40",
   "metadata": {},
   "outputs": [],
   "source": [
    "# get origin-destination pair, file path, and sheet name from user\n",
    "excel_file = ('Enter the file pathway:')\n",
    "sheet_name = ('Enter the sheet name:')\n",
    "orig = input('Enter the origin location code (3 characters):')\n",
    "dest = input('Enter the destination location code (3 characters):')"
   ]
  },
  {
   "cell_type": "code",
   "execution_count": 18,
   "id": "13d4ad64",
   "metadata": {},
   "outputs": [],
   "source": [
    "#example input\n",
    "\n",
    "#excel_file = \"//Users/ellasobhani/GPT/Distance_of_All_Airports_20230606_133617.xlsx\"\n",
    "#sheet_name = \"Sheet1\"\n",
    "#orig = \"06A\"\n",
    "#dest = \"A43\""
   ]
  },
  {
   "cell_type": "code",
   "execution_count": 19,
   "id": "5a62e7fe",
   "metadata": {},
   "outputs": [
    {
     "name": "stdout",
     "output_type": "stream",
     "text": [
      "2    18\n",
      "Name: DISTANCE_IN_MILES, dtype: int64\n"
     ]
    }
   ],
   "source": [
    "# call function and print output\n",
    "distance = distance_between(excel_file, sheet_name, orig, dest)\n",
    "print(distance)"
   ]
  }
 ],
 "metadata": {
  "kernelspec": {
   "display_name": "Python 3 (ipykernel)",
   "language": "python",
   "name": "python3"
  },
  "language_info": {
   "codemirror_mode": {
    "name": "ipython",
    "version": 3
   },
   "file_extension": ".py",
   "mimetype": "text/x-python",
   "name": "python",
   "nbconvert_exporter": "python",
   "pygments_lexer": "ipython3",
   "version": "3.9.7"
  }
 },
 "nbformat": 4,
 "nbformat_minor": 5
}
