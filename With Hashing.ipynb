{
 "cells": [
  {
   "cell_type": "code",
   "execution_count": 39,
   "id": "3c3ffe98",
   "metadata": {},
   "outputs": [],
   "source": [
    "# import libraries\n",
    "import pandas as pd\n",
    "import openpyxl \n",
    "import hashlib"
   ]
  },
  {
   "cell_type": "code",
   "execution_count": 40,
   "id": "f9f5aa10",
   "metadata": {},
   "outputs": [],
   "source": [
    "# clump the origin locations into buckets based on how many times they appear in an origin-destination pair\n",
    "def hash_rows(excel_file, sheet_name):\n",
    "    df = pd.read_excel(excel_file, sheet_name=sheet_name)\n",
    "    hash_object = hashlib.md5()\n",
    "\n",
    "    # Iterate over each row in the DataFrame\n",
    "    for row in df.itertuples(index=False):\n",
    "        # Convert the row to a string representation\n",
    "        row_str = ','.join(str(value) for value in row)\n",
    "\n",
    "        # Update the hash object with the row string\n",
    "        hash_object.update(row_str.encode())\n",
    "\n",
    "    hash_value = hash_object.hexdigest()\n",
    "    return hash_value\n",
    "\n",
    "#def create_hash_map(excel_file, sheet_name):\n",
    "    #df = pd.read_excel(excel_file, sheet_name=sheet_name)\n",
    "    #hash_map = {df[0]: row for row in df.itertuples(index=False)}\n",
    "    #return hash_map"
   ]
  },
  {
   "cell_type": "code",
   "execution_count": 41,
   "id": "df560d11",
   "metadata": {},
   "outputs": [],
   "source": [
    "def distance_between(excel_file, sheet_name, orig, dest, hash_map):\n",
    "    df = pd.read_excel(excel_file, sheet_name=sheet_name)\n",
    "    dest_index = hash_map[dest]\n",
    "    row = df.loc[df['ORIGIN'] == orig]\n",
    "    #col = row.loc[row['DEST'] == dest]\n",
    "    distance = row.iloc[0, dest_index]\n",
    "    return distance"
   ]
  },
  {
   "cell_type": "code",
   "execution_count": 42,
   "id": "3b8206b4",
   "metadata": {},
   "outputs": [],
   "source": [
    "excel_file = \"//Users/ellasobhani/GPT/Distance_of_All_Airports_20230606_133617.xlsx\"\n",
    "sheet_name = \"Sheet1\"\n",
    "orig = \"06A\"\n",
    "dest = \"A43\""
   ]
  },
  {
   "cell_type": "code",
   "execution_count": 43,
   "id": "1d99c6c6",
   "metadata": {},
   "outputs": [
    {
     "name": "stdout",
     "output_type": "stream",
     "text": [
      "3fbbd5223fb5615353a903e2ebe01f80\n"
     ]
    }
   ],
   "source": [
    "# call function and print output\n",
    "hash_map = hash_rows(excel_file, sheet_name)\n",
    "print(hash_map)\n",
    "#distance = distance_between(excel_file, sheet_name, orig, dest, hash_map)\n",
    "#print(distance)"
   ]
  },
  {
   "cell_type": "code",
   "execution_count": null,
   "id": "ef9c3003",
   "metadata": {},
   "outputs": [],
   "source": []
  }
 ],
 "metadata": {
  "kernelspec": {
   "display_name": "Python 3 (ipykernel)",
   "language": "python",
   "name": "python3"
  },
  "language_info": {
   "codemirror_mode": {
    "name": "ipython",
    "version": 3
   },
   "file_extension": ".py",
   "mimetype": "text/x-python",
   "name": "python",
   "nbconvert_exporter": "python",
   "pygments_lexer": "ipython3",
   "version": "3.9.7"
  }
 },
 "nbformat": 4,
 "nbformat_minor": 5
}
