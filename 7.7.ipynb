{
 "cells": [
  {
   "cell_type": "code",
   "execution_count": 1,
   "id": "4f462256",
   "metadata": {},
   "outputs": [],
   "source": [
    "# import libraries\n",
    "import pandas as pd\n",
    "import openpyxl \n",
    "from collections import Counter\n",
    "import time"
   ]
  },
  {
   "cell_type": "code",
   "execution_count": 2,
   "id": "0d9f1c8e",
   "metadata": {},
   "outputs": [],
   "source": [
    "# function to determine whether a number is prime or not\n",
    "def is_prime(num):\n",
    "    if num < 2:\n",
    "        return False\n",
    "    for i in range(2, int(num**0.5) + 1):\n",
    "        if num % i == 0:\n",
    "            return False\n",
    "    return True"
   ]
  },
  {
   "cell_type": "code",
   "execution_count": 3,
   "id": "34d4baf3",
   "metadata": {},
   "outputs": [],
   "source": [
    "# function to generate an array of size n of unique prime numbers\n",
    "def generate_prime_numbers(n):\n",
    "    primes = []\n",
    "    num = 2\n",
    "    while len(primes) < n:\n",
    "        if is_prime(num):\n",
    "            primes.append(num)\n",
    "        num += 1\n",
    "    return primes"
   ]
  },
  {
   "cell_type": "code",
   "execution_count": 4,
   "id": "1052f72b",
   "metadata": {},
   "outputs": [],
   "source": [
    "# build airport frequency dictionary\n",
    "def airport_freq_dict(excel_file, sheet_name):\n",
    "    df = pd.read_excel(excel_file, sheet_name=sheet_name)\n",
    "    airports_freq_dict = Counter(df[\"ORIGIN\"])\n",
    "\n",
    "    return airports_freq_dict"
   ]
  },
  {
   "cell_type": "code",
   "execution_count": 5,
   "id": "ddc60132",
   "metadata": {},
   "outputs": [],
   "source": [
    "# function to build the lookup table of airports\n",
    "# stores airport code with a prime number in a dictionary\n",
    "def build_lookup_table(excel_sheet, sheet_name, airports_freq_dict):\n",
    "    sorted_airport_list = list(airports_freq_dict.keys())\n",
    "    \n",
    "    lookup_table = {}\n",
    "    prime_num = 2\n",
    "\n",
    "    for airport in sorted_airport_list:\n",
    "        while not is_prime(prime_num):\n",
    "            prime_num += 1\n",
    "        lookup_table[airport] = prime_num\n",
    "        prime_num += 1\n",
    "        \n",
    "    return lookup_table"
   ]
  },
  {
   "cell_type": "code",
   "execution_count": 6,
   "id": "0ece850f",
   "metadata": {},
   "outputs": [],
   "source": [
    "# function to search the excel file and find the distance between origin-destination pairs\n",
    "def distance_between(df, orig, dest):\n",
    "    row = df.loc[df['ORIGIN'] == orig]\n",
    "    col = row.loc[row['DEST'] == dest]\n",
    "    distance = col['DISTANCE_IN_MILES']\n",
    "    return distance"
   ]
  },
  {
   "cell_type": "code",
   "execution_count": 7,
   "id": "b6a76a22",
   "metadata": {},
   "outputs": [],
   "source": [
    "# this is taking a long time because of nested for-loop\n",
    "\n",
    "# ordered dict hashtable implementation\n",
    "# (prime: distance) as (key:value)\n",
    "#def build_dict_hashtable(excel_file, sheet_name, lookup_table):\n",
    "#    route_hashtable = {}\n",
    "    # for every airport in the lookup table with each other airport\n",
    "#    for item_1 in lookup_table:\n",
    "#        for item_2 in lookup_table:\n",
    "            # get prime number for each and compute unique key to store the distance\n",
    "#            key = lookup_table[item_1]*lookup_table[item_2]\n",
    "#            route_hashtable[key] = distance_between(excel_file, sheet_name, item_1, item_2)"
   ]
  },
  {
   "cell_type": "code",
   "execution_count": 8,
   "id": "ef3133e7",
   "metadata": {},
   "outputs": [],
   "source": [
    "def build_dict_hashtable(df, lookup_table):\n",
    "    route_hashtable = {}\n",
    "    # for every airport in the lookup table with each other airport\n",
    "    for key_1, value_1 in lookup_table.items():\n",
    "        print(key_1)\n",
    "        print(time.time())\n",
    "        for key_2, value_2 in lookup_table.items():\n",
    "            # get prime number for each and compute unique key to store the distance\n",
    "            key = value_1*value_2\n",
    "            route_hashtable[key] = distance_between(df, key_1, key_2)"
   ]
  },
  {
   "cell_type": "code",
   "execution_count": 9,
   "id": "d0fbd2c0",
   "metadata": {},
   "outputs": [],
   "source": [
    "# mock main method\n",
    "# sample input\n",
    "excel_file = \"//Users/ellasobhani/GPT/Distance_of_All_Airports_20230606_133617.xlsx\"\n",
    "sheet_name = \"Sheet1\"\n",
    "orig = \"06A\"\n",
    "dest = \"A43\"\n",
    "df = pd.read_excel(excel_file, sheet_name=sheet_name)\n",
    "\n",
    "# list of unique airports\n",
    "#airports = airports_list(excel_file, sheet_name)\n",
    "#n = len(airports)\n",
    "#print(n)"
   ]
  },
  {
   "cell_type": "code",
   "execution_count": null,
   "id": "7c6daa7d",
   "metadata": {},
   "outputs": [
    {
     "name": "stdout",
     "output_type": "stream",
     "text": [
      "19.645903825759888\n",
      "0.015407323837280273\n",
      "01A\n",
      "1688744103.576898\n",
      "06A\n",
      "1688744137.2249181\n",
      "09A\n",
      "1688744170.824262\n",
      "1AK\n",
      "1688744204.524608\n"
     ]
    }
   ],
   "source": [
    "# create a frequency dictionary of the airports and sort it by frequency in descending order\n",
    "t0 = time.time()\n",
    "airport_freq = airport_freq_dict(excel_file, sheet_name)\n",
    "t1 = time.time()\n",
    "print(t1-t0)\n",
    "#print(airport_freq)\n",
    "\n",
    "# assign each airport in the freq dictionary with a prime number\n",
    "t2 = time.time()\n",
    "lookup_table = build_lookup_table(excel_file, sheet_name, airport_freq)\n",
    "t3 = time.time()\n",
    "print(t3-t2)\n",
    "#print(lookup_table)\n",
    "\n",
    "#build dict hashtable\n",
    "dict_hashtable = build_dict_hashtable(df, lookup_table)\n",
    "#print(dict_hashtable)"
   ]
  },
  {
   "cell_type": "code",
   "execution_count": null,
   "id": "ba231092",
   "metadata": {},
   "outputs": [],
   "source": [
    "# query function\n",
    "def query(hashtable, orig, dest):\n",
    "    key = lookup_table[orig]*lookup_table[dest]\n",
    "    return hashtable[key]\n",
    "\n",
    "test_query = query(dict_hashtable, orig, dest)\n",
    "print(test_query)"
   ]
  },
  {
   "cell_type": "code",
   "execution_count": null,
   "id": "ef5c8000",
   "metadata": {},
   "outputs": [],
   "source": []
  }
 ],
 "metadata": {
  "kernelspec": {
   "display_name": "Python 3 (ipykernel)",
   "language": "python",
   "name": "python3"
  },
  "language_info": {
   "codemirror_mode": {
    "name": "ipython",
    "version": 3
   },
   "file_extension": ".py",
   "mimetype": "text/x-python",
   "name": "python",
   "nbconvert_exporter": "python",
   "pygments_lexer": "ipython3",
   "version": "3.9.7"
  }
 },
 "nbformat": 4,
 "nbformat_minor": 5
}
